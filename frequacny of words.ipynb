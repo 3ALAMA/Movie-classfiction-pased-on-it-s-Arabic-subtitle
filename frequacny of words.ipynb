{
 "cells": [
  {
   "cell_type": "code",
   "execution_count": 4,
   "metadata": {
    "collapsed": false
   },
   "outputs": [],
   "source": [
    "import nltk\n",
    "import csv\n",
    "import pandas as pd\n",
    "def frequancy(input_file,output_file):\n",
    "\n",
    "    input_file= open(input_file).read()\n",
    "    data=input_file.replace('\\n', ' ')\n",
    "\n",
    "    data = data.split(' ')\n",
    "    fdist1 = nltk.FreqDist(data)\n",
    "    mostcommon= fdist1.most_common(1000)\n",
    "    df = pd.DataFrame(mostcommon)\n",
    "    for items in data \n",
    "        \n",
    "    #columns=[\"drama\", \"freq\"]\n",
    "    df.to_csv(output_file, index=False) \n",
    "\n",
    "frequancy(\"/home/noura/jupyter/stemming-horror.txt\", \"/home/noura/jupyter/ferq-horror.csv\")"
   ]
  },
  {
   "cell_type": "code",
   "execution_count": null,
   "metadata": {
    "collapsed": true
   },
   "outputs": [],
   "source": []
  }
 ],
 "metadata": {
  "kernelspec": {
   "display_name": "Python 3",
   "language": "python",
   "name": "python3"
  },
  "language_info": {
   "codemirror_mode": {
    "name": "ipython",
    "version": 3
   },
   "file_extension": ".py",
   "mimetype": "text/x-python",
   "name": "python",
   "nbconvert_exporter": "python",
   "pygments_lexer": "ipython3",
   "version": "3.6.0"
  }
 },
 "nbformat": 4,
 "nbformat_minor": 2
}
