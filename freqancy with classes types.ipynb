{
 "cells": [
  {
   "cell_type": "code",
   "execution_count": 1,
   "metadata": {
    "collapsed": false
   },
   "outputs": [],
   "source": [
    "import nltk\n",
    "import csv\n",
    "import pandas as pd\n",
    "def frequancy(input_file,output_file):\n",
    "    open_file=open(input_file).read()\n",
    "    data =open_file.replace('\\n', ' ')\n",
    "    data= data.split(' ')\n",
    "    for items in data:\n",
    "        fdist1 = nltk.FreqDist(data)\n",
    "        mostcommon= fdist1.most_common(500)\n",
    "        dataframe= pd.DataFrame(mostcommon, columns=[\"word\", \"freq\"])\n",
    "        dataframe[\"mean\"]=(dataframe.freq)/500\n",
    "\n",
    "        dataframe.to_csv(output_file, index=False) \n",
    "\n",
    "frequancy(\"/home/noura/machsterlemma.txt\",\"/home/noura/jupyter/1machstermean.csv\")"
   ]
  },
  {
   "cell_type": "code",
   "execution_count": null,
   "metadata": {
    "collapsed": true
   },
   "outputs": [],
   "source": []
  }
 ],
 "metadata": {
  "kernelspec": {
   "display_name": "Python 3",
   "language": "python",
   "name": "python3"
  },
  "language_info": {
   "codemirror_mode": {
    "name": "ipython",
    "version": 3
   },
   "file_extension": ".py",
   "mimetype": "text/x-python",
   "name": "python",
   "nbconvert_exporter": "python",
   "pygments_lexer": "ipython3",
   "version": "3.6.0"
  }
 },
 "nbformat": 4,
 "nbformat_minor": 2
}
